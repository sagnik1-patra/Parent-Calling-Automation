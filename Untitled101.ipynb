{
 "cells": [
  {
   "cell_type": "code",
   "execution_count": 3,
   "id": "94bbea38-0895-4396-97d5-72324cc99d1e",
   "metadata": {},
   "outputs": [
    {
     "name": "stdout",
     "output_type": "stream",
     "text": [
      "[DONE] SMS sent via adb automation.\n"
     ]
    }
   ],
   "source": [
    "import os\n",
    "import time\n",
    "\n",
    "ADB = r\"C:\\Users\\NXTWAVE\\Downloads\\platform-tools-latest-windows\\platform-tools\\adb.exe\"\n",
    "DEVICE_ID = \"DURWQ45LGE9DQSW8\"\n",
    "\n",
    "father_num = \"7564038169\"\n",
    "message = \"Your son Sagnik is not present in class today\"\n",
    "\n",
    "# 1️⃣ Launch Google Messages\n",
    "os.system(f'\"{ADB}\" -s {DEVICE_ID} shell monkey -p com.google.android.apps.messaging -c android.intent.category.LAUNCHER 1')\n",
    "time.sleep(2)\n",
    "\n",
    "# 2️⃣ Type phone number\n",
    "os.system(f'\"{ADB}\" -s {DEVICE_ID} shell input text {father_num}')\n",
    "time.sleep(1)\n",
    "\n",
    "# 3️⃣ Press TAB to move focus to message box\n",
    "os.system(f'\"{ADB}\" -s {DEVICE_ID} shell input keyevent 61')\n",
    "time.sleep(1)\n",
    "\n",
    "# 4️⃣ Type message\n",
    "msg_escaped = message.replace(\" \", \"\\\\ \")\n",
    "os.system(f'\"{ADB}\" -s {DEVICE_ID} shell input text \"{msg_escaped}\"')\n",
    "time.sleep(1)\n",
    "\n",
    "# 5️⃣ Tap on Send button (replace with your coordinates)\n",
    "SEND_X, SEND_Y = 1000, 1800   # Example coords, adjust!\n",
    "os.system(f'\"{ADB}\" -s {DEVICE_ID} shell input tap {SEND_X} {SEND_Y}')\n",
    "\n",
    "print(\"[DONE] SMS sent via adb automation.\")\n"
   ]
  },
  {
   "cell_type": "code",
   "execution_count": null,
   "id": "5eac1838-ab10-4195-aed5-bde56272fe00",
   "metadata": {},
   "outputs": [],
   "source": []
  }
 ],
 "metadata": {
  "kernelspec": {
   "display_name": "Python 3 (ipykernel)",
   "language": "python",
   "name": "python3"
  },
  "language_info": {
   "codemirror_mode": {
    "name": "ipython",
    "version": 3
   },
   "file_extension": ".py",
   "mimetype": "text/x-python",
   "name": "python",
   "nbconvert_exporter": "python",
   "pygments_lexer": "ipython3",
   "version": "3.11.9"
  }
 },
 "nbformat": 4,
 "nbformat_minor": 5
}
