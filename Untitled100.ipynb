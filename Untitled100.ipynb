{
 "cells": [
  {
   "cell_type": "code",
   "execution_count": 1,
   "id": "ed21c0be-601a-431b-a0b3-1e0072cf4eab",
   "metadata": {},
   "outputs": [
    {
     "name": "stdout",
     "output_type": "stream",
     "text": [
      "[INFO] Sending SMS to 7564038169 → Your father Sagnik is not present in class today\n",
      "[DONE] SMS intent sent → Check phone’s SMS app\n"
     ]
    }
   ],
   "source": [
    "import pandas as pd\n",
    "import os\n",
    "\n",
    "# ---------------- CONFIG ---------------- #\n",
    "EXCEL_PATH = r\"C:\\Users\\NXTWAVE\\Downloads\\Untitled spreadsheet.xlsx\"\n",
    "ADB = r\"C:\\Users\\NXTWAVE\\Downloads\\platform-tools-latest-windows\\platform-tools\\adb.exe\"\n",
    "DEVICE_ID = \"DURWQ45LGE9DQSW8\"\n",
    "\n",
    "# ---------------- LOAD EXCEL ---------------- #\n",
    "df = pd.read_excel(EXCEL_PATH)\n",
    "\n",
    "required_cols = {\"Name\", \"Presense\", \"Father\"}\n",
    "if not required_cols.issubset(df.columns):\n",
    "    raise ValueError(f\"Excel must contain columns: {required_cols}\")\n",
    "\n",
    "# ---------------- PROCESS STUDENTS ---------------- #\n",
    "for _, row in df.iterrows():\n",
    "    name = str(row[\"Name\"]).strip()\n",
    "    status = str(row[\"Presense\"]).strip().lower()\n",
    "    father_num = str(row[\"Father\"]).strip()\n",
    "\n",
    "    if status == \"absent\" and father_num:\n",
    "        message = f\"Your father {name} is not present in class today\"\n",
    "        print(f\"[INFO] Sending SMS to {father_num} → {message}\")\n",
    "\n",
    "        # Open SMS app with message pre-filled\n",
    "        os.system(\n",
    "            f'\"{ADB}\" -s {DEVICE_ID} shell am start -a android.intent.action.SENDTO -d sms:{father_num} --es sms_body \"{message}\"'\n",
    "        )\n",
    "\n",
    "        print(\"[DONE] SMS intent sent → Check phone’s SMS app\")\n"
   ]
  },
  {
   "cell_type": "code",
   "execution_count": null,
   "id": "2943616e-19d4-4cc2-94b4-5a4c75f43f1d",
   "metadata": {},
   "outputs": [],
   "source": []
  }
 ],
 "metadata": {
  "kernelspec": {
   "display_name": "Python 3 (ipykernel)",
   "language": "python",
   "name": "python3"
  },
  "language_info": {
   "codemirror_mode": {
    "name": "ipython",
    "version": 3
   },
   "file_extension": ".py",
   "mimetype": "text/x-python",
   "name": "python",
   "nbconvert_exporter": "python",
   "pygments_lexer": "ipython3",
   "version": "3.11.9"
  }
 },
 "nbformat": 4,
 "nbformat_minor": 5
}
