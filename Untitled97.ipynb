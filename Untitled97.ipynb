{
 "cells": [
  {
   "cell_type": "code",
   "execution_count": 1,
   "id": "2b3b41ff-82e5-4bbc-ae39-f16b0d4099ac",
   "metadata": {},
   "outputs": [
    {
     "name": "stderr",
     "output_type": "stream",
     "text": [
      "C:\\Users\\NXTWAVE\\AppData\\Local\\Programs\\Python\\Python311\\Lib\\site-packages\\pygame\\pkgdata.py:25: UserWarning: pkg_resources is deprecated as an API. See https://setuptools.pypa.io/en/latest/pkg_resources.html. The pkg_resources package is slated for removal as early as 2025-11-30. Refrain from using this package or pin to Setuptools<81.\n",
      "  from pkg_resources import resource_stream, resource_exists\n"
     ]
    },
    {
     "name": "stdout",
     "output_type": "stream",
     "text": [
      "pygame 2.6.1 (SDL 2.28.4, Python 3.11.9)\n",
      "Hello from the pygame community. https://www.pygame.org/contribute.html\n",
      "[INFO] Calling 7564038169 → Your son Sagnik is not present in class today\n",
      "[INFO] Playing audio message...\n",
      "[INFO] Sending SMS...\n",
      "[DONE] Alert sent to: 7564038169\n"
     ]
    }
   ],
   "source": [
    "import pandas as pd\n",
    "import os\n",
    "import time\n",
    "from gtts import gTTS\n",
    "import pygame\n",
    "\n",
    "# ---------------- CONFIG ---------------- #\n",
    "EXCEL_PATH = r\"C:\\Users\\NXTWAVE\\Downloads\\Untitled spreadsheet.xlsx\"\n",
    "DEVICE_ID = \"DURWQ45LGE9DQSW8\"  # from adb devices\n",
    "\n",
    "# ---------------- LOAD EXCEL ---------------- #\n",
    "df = pd.read_excel(EXCEL_PATH)\n",
    "\n",
    "required_cols = {\"Name\", \"Presense\", \"Father\"}\n",
    "if not required_cols.issubset(df.columns):\n",
    "    raise ValueError(f\"Excel must contain columns: {required_cols}\")\n",
    "\n",
    "# ---------------- PROCESS STUDENTS ---------------- #\n",
    "for _, row in df.iterrows():\n",
    "    name = str(row[\"Name\"]).strip()\n",
    "    status = str(row[\"Presense\"]).strip().lower()\n",
    "    father_num = str(row[\"Father\"]).strip()\n",
    "\n",
    "    if status == \"absent\" and father_num:\n",
    "        message = f\"Your son {name} is not present in class today\"\n",
    "        print(f\"[INFO] Calling {father_num} → {message}\")\n",
    "\n",
    "        # 1️⃣ Direct CALL\n",
    "        os.system(f'adb -s {DEVICE_ID} shell am start -a android.intent.action.CALL -d tel:{father_num}')\n",
    "        time.sleep(3)  # wait for call to connect\n",
    "\n",
    "        # 2️⃣ Convert message to speech (TTS)\n",
    "        filename = f\"alert_{name}_{int(time.time())}.mp3\"\n",
    "        tts = gTTS(text=message, lang=\"en\", slow=False)\n",
    "        tts.save(filename)\n",
    "\n",
    "        # 3️⃣ Play audio through laptop speakers (phone mic captures it)\n",
    "        print(\"[INFO] Playing audio message...\")\n",
    "        pygame.mixer.init()\n",
    "        pygame.mixer.music.load(filename)\n",
    "        pygame.mixer.music.play()\n",
    "        while pygame.mixer.music.get_busy():\n",
    "            time.sleep(1)\n",
    "\n",
    "        # 4️⃣ Open SMS app with same message prefilled\n",
    "        print(\"[INFO] Sending SMS...\")\n",
    "        os.system(\n",
    "            f'adb -s {DEVICE_ID} shell am start -a android.intent.action.SENDTO -d sms:{father_num} --es sms_body \"{message}\"'\n",
    "        )\n",
    "\n",
    "        print(\"[DONE] Alert sent to:\", father_num)\n"
   ]
  },
  {
   "cell_type": "code",
   "execution_count": null,
   "id": "0b0434e8-0ea9-49f3-8390-ce30d71391e3",
   "metadata": {},
   "outputs": [],
   "source": []
  }
 ],
 "metadata": {
  "kernelspec": {
   "display_name": "Python 3 (ipykernel)",
   "language": "python",
   "name": "python3"
  },
  "language_info": {
   "codemirror_mode": {
    "name": "ipython",
    "version": 3
   },
   "file_extension": ".py",
   "mimetype": "text/x-python",
   "name": "python",
   "nbconvert_exporter": "python",
   "pygments_lexer": "ipython3",
   "version": "3.11.9"
  }
 },
 "nbformat": 4,
 "nbformat_minor": 5
}
