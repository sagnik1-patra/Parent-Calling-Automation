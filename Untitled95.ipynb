{
 "cells": [
  {
   "cell_type": "code",
   "execution_count": 2,
   "id": "02253e26-4f10-4fad-aa7b-4adf4f55f538",
   "metadata": {},
   "outputs": [
    {
     "name": "stdout",
     "output_type": "stream",
     "text": [
      "Collecting gtts\n",
      "  Downloading gTTS-2.5.4-py3-none-any.whl.metadata (4.1 kB)\n",
      "Requirement already satisfied: requests<3,>=2.27 in c:\\users\\nxtwave\\appdata\\local\\programs\\python\\python311\\lib\\site-packages (from gtts) (2.32.5)\n",
      "Collecting click<8.2,>=7.1 (from gtts)\n",
      "  Downloading click-8.1.8-py3-none-any.whl.metadata (2.3 kB)\n",
      "Requirement already satisfied: colorama in c:\\users\\nxtwave\\appdata\\local\\programs\\python\\python311\\lib\\site-packages (from click<8.2,>=7.1->gtts) (0.4.6)\n",
      "Requirement already satisfied: charset_normalizer<4,>=2 in c:\\users\\nxtwave\\appdata\\local\\programs\\python\\python311\\lib\\site-packages (from requests<3,>=2.27->gtts) (3.4.3)\n",
      "Requirement already satisfied: idna<4,>=2.5 in c:\\users\\nxtwave\\appdata\\local\\programs\\python\\python311\\lib\\site-packages (from requests<3,>=2.27->gtts) (3.10)\n",
      "Requirement already satisfied: urllib3<3,>=1.21.1 in c:\\users\\nxtwave\\appdata\\local\\programs\\python\\python311\\lib\\site-packages (from requests<3,>=2.27->gtts) (2.5.0)\n",
      "Requirement already satisfied: certifi>=2017.4.17 in c:\\users\\nxtwave\\appdata\\local\\programs\\python\\python311\\lib\\site-packages (from requests<3,>=2.27->gtts) (2025.8.3)\n",
      "Downloading gTTS-2.5.4-py3-none-any.whl (29 kB)\n",
      "Downloading click-8.1.8-py3-none-any.whl (98 kB)\n",
      "Installing collected packages: click, gtts\n",
      "\n",
      "  Attempting uninstall: click\n",
      "\n",
      "    Found existing installation: click 8.3.0\n",
      "\n",
      "    Uninstalling click-8.3.0:\n",
      "\n",
      "      Successfully uninstalled click-8.3.0\n",
      "\n",
      "   ---------------------------------------- 0/2 [click]\n",
      "   -------------------- ------------------- 1/2 [gtts]\n",
      "   ---------------------------------------- 2/2 [gtts]\n",
      "\n",
      "Successfully installed click-8.1.8 gtts-2.5.4\n"
     ]
    }
   ],
   "source": [
    "!pip install gtts"
   ]
  },
  {
   "cell_type": "code",
   "execution_count": 4,
   "id": "c9fe171e-eeab-4d63-9756-dab6f701abab",
   "metadata": {},
   "outputs": [
    {
     "name": "stdout",
     "output_type": "stream",
     "text": [
      "Collecting playsound\n",
      "  Downloading playsound-1.3.0.tar.gz (7.7 kB)\n",
      "  Preparing metadata (setup.py): started\n",
      "  Preparing metadata (setup.py): finished with status 'done'\n",
      "Building wheels for collected packages: playsound\n",
      "  Building wheel for playsound (setup.py): started\n",
      "  Building wheel for playsound (setup.py): finished with status 'done'\n",
      "  Created wheel for playsound: filename=playsound-1.3.0-py3-none-any.whl size=7123 sha256=2d7c6544b82e350f3642c96088cb59ca6f0c110af3c965e5bbe62cf4aed36fb9\n",
      "  Stored in directory: c:\\users\\nxtwave\\appdata\\local\\pip\\cache\\wheels\\50\\98\\42\\62753a9e1fb97579a0ce2f84f7db4c21c09d03bb2091e6cef4\n",
      "Successfully built playsound\n",
      "Installing collected packages: playsound\n",
      "Successfully installed playsound-1.3.0\n"
     ]
    },
    {
     "name": "stderr",
     "output_type": "stream",
     "text": [
      "  DEPRECATION: Building 'playsound' using the legacy setup.py bdist_wheel mechanism, which will be removed in a future version. pip 25.3 will enforce this behaviour change. A possible replacement is to use the standardized build interface by setting the `--use-pep517` option, (possibly combined with `--no-build-isolation`), or adding a `pyproject.toml` file to the source tree of 'playsound'. Discussion can be found at https://github.com/pypa/pip/issues/6334\n"
     ]
    }
   ],
   "source": [
    "!pip install playsound"
   ]
  },
  {
   "cell_type": "code",
   "execution_count": 7,
   "id": "0b5bfafe-0120-46b0-a589-e544d6735e62",
   "metadata": {},
   "outputs": [
    {
     "name": "stdout",
     "output_type": "stream",
     "text": [
      "Collecting pygame\n",
      "  Downloading pygame-2.6.1-cp311-cp311-win_amd64.whl.metadata (13 kB)\n",
      "Downloading pygame-2.6.1-cp311-cp311-win_amd64.whl (10.6 MB)\n",
      "   ---------------------------------------- 0.0/10.6 MB ? eta -:--:--\n",
      "   -- ------------------------------------- 0.8/10.6 MB 5.6 MB/s eta 0:00:02\n",
      "   ------- -------------------------------- 2.1/10.6 MB 5.9 MB/s eta 0:00:02\n",
      "   ----------- ---------------------------- 3.1/10.6 MB 5.8 MB/s eta 0:00:02\n",
      "   ---------------- ----------------------- 4.5/10.6 MB 5.7 MB/s eta 0:00:02\n",
      "   ------------------- -------------------- 5.2/10.6 MB 6.0 MB/s eta 0:00:01\n",
      "   ------------------------ --------------- 6.6/10.6 MB 5.6 MB/s eta 0:00:01\n",
      "   ---------------------------- ----------- 7.6/10.6 MB 5.3 MB/s eta 0:00:01\n",
      "   ------------------------------- -------- 8.4/10.6 MB 5.1 MB/s eta 0:00:01\n",
      "   ----------------------------------- ---- 9.4/10.6 MB 5.1 MB/s eta 0:00:01\n",
      "   ---------------------------------------  10.5/10.6 MB 5.1 MB/s eta 0:00:01\n",
      "   ---------------------------------------- 10.6/10.6 MB 4.9 MB/s  0:00:02\n",
      "Installing collected packages: pygame\n",
      "Successfully installed pygame-2.6.1\n"
     ]
    }
   ],
   "source": [
    "!pip install pygame"
   ]
  },
  {
   "cell_type": "code",
   "execution_count": 12,
   "id": "63245f33-2679-42d5-adc0-35a54902e21d",
   "metadata": {},
   "outputs": [
    {
     "name": "stdout",
     "output_type": "stream",
     "text": [
      "[INFO] Calling 7564038169 → Your son Sagnik is not present in class today\n",
      "[INFO] Playing audio message...\n",
      "[INFO] Sending SMS...\n",
      "[DONE] Alert sent to: 7564038169\n",
      "[INFO] Cleaning up temporary audio files...\n",
      "[✅] Process completed.\n"
     ]
    }
   ],
   "source": [
    "import pandas as pd\n",
    "import os\n",
    "import time\n",
    "from gtts import gTTS\n",
    "import pygame\n",
    "\n",
    "# ---------------- CONFIG ---------------- #\n",
    "EXCEL_PATH = r\"C:\\Users\\NXTWAVE\\Downloads\\Untitled spreadsheet.xlsx\"\n",
    "DEVICE_ID = \"DURWQ45LGE9DQSW8\"  # replace with your adb device id\n",
    "\n",
    "# ---------------- LOAD EXCEL ---------------- #\n",
    "df = pd.read_excel(EXCEL_PATH)\n",
    "\n",
    "required_cols = {\"Name\", \"Presense\", \"Father\"}\n",
    "if not required_cols.issubset(df.columns):\n",
    "    raise ValueError(f\"Excel must contain columns: {required_cols}\")\n",
    "\n",
    "# ---------------- PROCESS STUDENTS ---------------- #\n",
    "audio_files = []  # track files to clean later\n",
    "\n",
    "for _, row in df.iterrows():\n",
    "    name = str(row[\"Name\"]).strip()\n",
    "    status = str(row[\"Presense\"]).strip().lower()\n",
    "    father_num = str(row[\"Father\"]).strip()\n",
    "\n",
    "    if status == \"absent\" and father_num:\n",
    "        # NLP-generated message\n",
    "        message = f\"Your son {name} is not present in class today\"\n",
    "        print(f\"[INFO] Calling {father_num} → {message}\")\n",
    "\n",
    "        # 1️⃣ Call the number\n",
    "        os.system(f'adb -s {DEVICE_ID} shell am start -a android.intent.action.CALL -d tel:{father_num}')\n",
    "        time.sleep(3)  # wait for call to start\n",
    "\n",
    "        # 2️⃣ Convert message to speech (TTS) → unique file per student\n",
    "        filename = f\"alert_{name}_{int(time.time())}.mp3\"\n",
    "        tts = gTTS(text=message, lang=\"en\", slow=False)\n",
    "        tts.save(filename)\n",
    "        audio_files.append(filename)\n",
    "\n",
    "        # 3️⃣ Play audio through speakers (phone mic will pick it up)\n",
    "        print(\"[INFO] Playing audio message...\")\n",
    "        pygame.mixer.init()\n",
    "        pygame.mixer.music.load(filename)\n",
    "        pygame.mixer.music.play()\n",
    "        while pygame.mixer.music.get_busy():\n",
    "            time.sleep(1)\n",
    "\n",
    "        # 4️⃣ Send SMS with the same message\n",
    "        print(\"[INFO] Sending SMS...\")\n",
    "        os.system(\n",
    "            f'adb -s {DEVICE_ID} shell am start -a android.intent.action.SENDTO -d sms:{father_num} --es sms_body \"{message}\" --ez exit_on_sent true'\n",
    "        )\n",
    "\n",
    "        print(\"[DONE] Alert sent to:\", father_num)\n",
    "\n",
    "# ---------------- CLEANUP ---------------- #\n",
    "print(\"[INFO] Cleaning up temporary audio files...\")\n",
    "for f in audio_files:\n",
    "    try:\n",
    "        os.remove(f)\n",
    "    except:\n",
    "        pass\n",
    "\n",
    "print(\"[✅] Process completed.\")\n"
   ]
  },
  {
   "cell_type": "code",
   "execution_count": null,
   "id": "7246ee98-1f95-4adf-b2dd-f0e97e943359",
   "metadata": {},
   "outputs": [],
   "source": []
  }
 ],
 "metadata": {
  "kernelspec": {
   "display_name": "Python 3 (ipykernel)",
   "language": "python",
   "name": "python3"
  },
  "language_info": {
   "codemirror_mode": {
    "name": "ipython",
    "version": 3
   },
   "file_extension": ".py",
   "mimetype": "text/x-python",
   "name": "python",
   "nbconvert_exporter": "python",
   "pygments_lexer": "ipython3",
   "version": "3.11.9"
  }
 },
 "nbformat": 4,
 "nbformat_minor": 5
}
