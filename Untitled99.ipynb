{
 "cells": [
  {
   "cell_type": "code",
   "execution_count": 1,
   "id": "97608fd9-a40e-4d34-9948-169d3b483762",
   "metadata": {},
   "outputs": [
    {
     "name": "stdout",
     "output_type": "stream",
     "text": [
      "[INFO] Calling 7564038169 → Your son Sagnik is not present in class today\n",
      "[INFO] Pushed audio to phone: /sdcard/alert_Sagnik.mp3\n",
      "[INFO] Audio playback started on phone.\n",
      "[DONE] Alert sent to: 7564038169\n"
     ]
    }
   ],
   "source": [
    "import pandas as pd\n",
    "import os\n",
    "import time\n",
    "from gtts import gTTS\n",
    "\n",
    "# ---------------- CONFIG ---------------- #\n",
    "EXCEL_PATH = r\"C:\\Users\\NXTWAVE\\Downloads\\Untitled spreadsheet.xlsx\"\n",
    "ADB = r\"C:\\Users\\NXTWAVE\\Downloads\\platform-tools-latest-windows\\platform-tools\\adb.exe\"\n",
    "DEVICE_ID = \"DURWQ45LGE9DQSW8\"\n",
    "\n",
    "# ---------------- LOAD EXCEL ---------------- #\n",
    "df = pd.read_excel(EXCEL_PATH)\n",
    "\n",
    "required_cols = {\"Name\", \"Presense\", \"Father\"}\n",
    "if not required_cols.issubset(df.columns):\n",
    "    raise ValueError(f\"Excel must contain columns: {required_cols}\")\n",
    "\n",
    "# ---------------- PROCESS STUDENTS ---------------- #\n",
    "for _, row in df.iterrows():\n",
    "    name = str(row[\"Name\"]).strip()\n",
    "    status = str(row[\"Presense\"]).strip().lower()\n",
    "    father_num = str(row[\"Father\"]).strip()\n",
    "\n",
    "    if status == \"absent\" and father_num:\n",
    "        message = f\"Your son {name} is not present in class today\"\n",
    "        print(f\"[INFO] Calling {father_num} → {message}\")\n",
    "\n",
    "        # 1️⃣ Place the call\n",
    "        os.system(f'\"{ADB}\" -s {DEVICE_ID} shell am start -a android.intent.action.CALL -d tel:{father_num}')\n",
    "        time.sleep(5)  # wait for call to connect\n",
    "\n",
    "        # 2️⃣ Generate TTS audio file\n",
    "        filename = f\"alert_{name}.mp3\"\n",
    "        tts = gTTS(text=message, lang=\"en\")\n",
    "        tts.save(filename)\n",
    "\n",
    "        # 3️⃣ Push audio to phone\n",
    "        remote_path = f\"/sdcard/{filename}\"\n",
    "        os.system(f'\"{ADB}\" -s {DEVICE_ID} push \"{filename}\" \"{remote_path}\"')\n",
    "        print(f\"[INFO] Pushed audio to phone: {remote_path}\")\n",
    "\n",
    "        # 4️⃣ Play audio on phone using Android's default music player\n",
    "        os.system(f'\"{ADB}\" -s {DEVICE_ID} shell am start -a android.intent.action.VIEW -d file://{remote_path} -t audio/mp3')\n",
    "        print(\"[INFO] Audio playback started on phone.\")\n",
    "\n",
    "        # 5️⃣ Send SMS (prefilled)\n",
    "        os.system(\n",
    "            f'\"{ADB}\" -s {DEVICE_ID} shell am start -a android.intent.action.SENDTO -d sms:{father_num} --es sms_body \"{message}\"'\n",
    "        )\n",
    "        print(\"[DONE] Alert sent to:\", father_num)\n"
   ]
  },
  {
   "cell_type": "code",
   "execution_count": null,
   "id": "951800d6-d985-42c7-9254-9b85107c21b7",
   "metadata": {},
   "outputs": [],
   "source": []
  }
 ],
 "metadata": {
  "kernelspec": {
   "display_name": "Python 3 (ipykernel)",
   "language": "python",
   "name": "python3"
  },
  "language_info": {
   "codemirror_mode": {
    "name": "ipython",
    "version": 3
   },
   "file_extension": ".py",
   "mimetype": "text/x-python",
   "name": "python",
   "nbconvert_exporter": "python",
   "pygments_lexer": "ipython3",
   "version": "3.11.9"
  }
 },
 "nbformat": 4,
 "nbformat_minor": 5
}
